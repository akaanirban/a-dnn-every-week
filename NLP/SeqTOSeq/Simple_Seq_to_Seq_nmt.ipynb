{
  "nbformat": 4,
  "nbformat_minor": 0,
  "metadata": {
    "colab": {
      "name": "Simple Seq to Seq nmt",
      "provenance": [],
      "collapsed_sections": [],
      "authorship_tag": "ABX9TyPOz+HgsvSbHlE98Nfw/xCO",
      "include_colab_link": true
    },
    "kernelspec": {
      "name": "python3",
      "display_name": "Python 3"
    },
    "language_info": {
      "name": "python"
    },
    "accelerator": "GPU"
  },
  "cells": [
    {
      "cell_type": "markdown",
      "metadata": {
        "id": "view-in-github",
        "colab_type": "text"
      },
      "source": [
        "<a href=\"https://colab.research.google.com/github/akaanirban/a-dnn-every-week/blob/main/NLP/SeqTOSeq/Simple_Seq_to_Seq_nmt.ipynb\" target=\"_parent\"><img src=\"https://colab.research.google.com/assets/colab-badge.svg\" alt=\"Open In Colab\"/></a>"
      ]
    },
    {
      "cell_type": "markdown",
      "metadata": {
        "id": "K9KxtNSZtroK"
      },
      "source": [
        "### In this example, we look at sequence to sequence text translation (Neural Machine Translation if you are feeling fancy) using a simple encoder decoder approach with the help of LSTM. The results are hilarious and objectively garbage but it gets the point across. We use the small english to bengali translated dataset from Tatoeba. "
      ]
    },
    {
      "cell_type": "code",
      "metadata": {
        "colab": {
          "base_uri": "https://localhost:8080/"
        },
        "id": "DfMAJmWNnFPI",
        "outputId": "8ba3a58a-9609-4d1f-8613-3c3e0a67c0a7"
      },
      "source": [
        "!pip install torch torchvision"
      ],
      "execution_count": 2,
      "outputs": [
        {
          "output_type": "stream",
          "text": [
            "Requirement already satisfied: torch in /usr/local/lib/python3.7/dist-packages (1.9.0+cu102)\n",
            "Requirement already satisfied: torchvision in /usr/local/lib/python3.7/dist-packages (0.10.0+cu102)\n",
            "Requirement already satisfied: typing-extensions in /usr/local/lib/python3.7/dist-packages (from torch) (3.7.4.3)\n",
            "Requirement already satisfied: pillow>=5.3.0 in /usr/local/lib/python3.7/dist-packages (from torchvision) (7.1.2)\n",
            "Requirement already satisfied: numpy in /usr/local/lib/python3.7/dist-packages (from torchvision) (1.19.5)\n"
          ],
          "name": "stdout"
        }
      ]
    },
    {
      "cell_type": "code",
      "metadata": {
        "id": "WFhAjy5LnIRc"
      },
      "source": [
        "import torch\n",
        "import torch.nn as nn\n",
        "import torch.functional as F\n",
        "import torchvision"
      ],
      "execution_count": 1,
      "outputs": []
    },
    {
      "cell_type": "code",
      "metadata": {
        "colab": {
          "base_uri": "https://localhost:8080/"
        },
        "id": "8YDs3qUNnORJ",
        "outputId": "27a4f00a-e8fc-49e6-8ffd-66f595bc461e"
      },
      "source": [
        "! wget http://www.manythings.org/anki/ben-eng.zip\n",
        "! unzip ben-eng.zip"
      ],
      "execution_count": 2,
      "outputs": [
        {
          "output_type": "stream",
          "text": [
            "--2021-07-30 04:30:13--  http://www.manythings.org/anki/ben-eng.zip\n",
            "Resolving www.manythings.org (www.manythings.org)... 104.21.92.44, 172.67.186.54, 2606:4700:3033::ac43:ba36, ...\n",
            "Connecting to www.manythings.org (www.manythings.org)|104.21.92.44|:80... connected.\n",
            "HTTP request sent, awaiting response... 200 OK\n",
            "Length: 134552 (131K) [application/zip]\n",
            "Saving to: ‘ben-eng.zip’\n",
            "\n",
            "ben-eng.zip         100%[===================>] 131.40K  --.-KB/s    in 0.1s    \n",
            "\n",
            "2021-07-30 04:30:14 (1.08 MB/s) - ‘ben-eng.zip’ saved [134552/134552]\n",
            "\n",
            "Archive:  ben-eng.zip\n",
            "  inflating: _about.txt              \n",
            "  inflating: ben.txt                 \n"
          ],
          "name": "stdout"
        }
      ]
    },
    {
      "cell_type": "code",
      "metadata": {
        "colab": {
          "base_uri": "https://localhost:8080/"
        },
        "id": "AiV3Nun7qXRC",
        "outputId": "58a33a5d-f890-412c-ffb4-e12f1cc3dc12"
      },
      "source": [
        "! head ben.txt"
      ],
      "execution_count": 3,
      "outputs": [
        {
          "output_type": "stream",
          "text": [
            "Go.\tযাও।\tCC-BY 2.0 (France) Attribution: tatoeba.org #2877272 (CM) & #5545004 (tanay)\n",
            "Go.\tযান।\tCC-BY 2.0 (France) Attribution: tatoeba.org #2877272 (CM) & #5545005 (tanay)\n",
            "Go.\tযা।\tCC-BY 2.0 (France) Attribution: tatoeba.org #2877272 (CM) & #5545006 (tanay)\n",
            "Run!\tপালাও!\tCC-BY 2.0 (France) Attribution: tatoeba.org #906328 (papabear) & #5548781 (tanay)\n",
            "Run!\tপালান!\tCC-BY 2.0 (France) Attribution: tatoeba.org #906328 (papabear) & #5548783 (tanay)\n",
            "Who?\tকে?\tCC-BY 2.0 (France) Attribution: tatoeba.org #2083030 (CK) & #5548787 (tanay)\n",
            "Fire!\tআগুন!\tCC-BY 2.0 (France) Attribution: tatoeba.org #1829639 (Spamster) & #3232240 (tanay)\n",
            "Help!\tবাঁচাও!\tCC-BY 2.0 (France) Attribution: tatoeba.org #435084 (lukaszpp) & #5548780 (tanay)\n",
            "Help!\tবাঁচান!\tCC-BY 2.0 (France) Attribution: tatoeba.org #435084 (lukaszpp) & #5548782 (tanay)\n",
            "Stop!\tথামুন!\tCC-BY 2.0 (France) Attribution: tatoeba.org #448320 (CM) & #5545000 (tanay)\n"
          ],
          "name": "stdout"
        }
      ]
    },
    {
      "cell_type": "code",
      "metadata": {
        "id": "fLEcGj1BqaHM"
      },
      "source": [
        "%matplotlib inline\n",
        "import pandas as pd\n",
        "import numpy as np\n",
        "import string\n",
        "from string import digits\n",
        "import matplotlib.pyplot as plt\n",
        "import re\n",
        "from sklearn.utils import shuffle\n",
        "from sklearn.model_selection import train_test_split\n",
        "from keras.layers import Input, LSTM, Embedding, Dense\n",
        "from keras.models import Model"
      ],
      "execution_count": 4,
      "outputs": []
    },
    {
      "cell_type": "code",
      "metadata": {
        "id": "pGuFfHAhtlUt"
      },
      "source": [
        "# import nltk \n",
        "# nltk.download('stopwords')\n",
        "# STOPWORDS_ENG = nltk.corpus.stopwords.words('english')\n",
        "# STOPWORDS_BENG = nltk.corpus.stopwords.words('bengali')\n",
        "PUNCTUATIONS = [ '!', '\"', '#', '$', '%', '&', '(', ')', '*', '+', '-', '.', '/',  '\\\\', ':', ';', '<', '=', '>',\n",
        "           '?', '@', '[', ']', '^', '_', '`', '{', '|', '}', '\\t','\\n',\"'\",\",\",'~' , '—']\n",
        "punct_regex_expression = \"[!\\\"#$%&()*+-.\\/\\\\:;<=>?@[\\]^_`{|}\\\\t\\\\n\\',~—]\""
      ],
      "execution_count": 5,
      "outputs": []
    },
    {
      "cell_type": "code",
      "metadata": {
        "id": "S1FqKj9bqlT8"
      },
      "source": [
        "lines= pd.read_table('ben.txt', names=['ben', 'eng'])"
      ],
      "execution_count": 7,
      "outputs": []
    },
    {
      "cell_type": "code",
      "metadata": {
        "id": "HyAyX5ZLqrG_"
      },
      "source": [
        "lines.reset_index(inplace=True)"
      ],
      "execution_count": 8,
      "outputs": []
    },
    {
      "cell_type": "code",
      "metadata": {
        "colab": {
          "base_uri": "https://localhost:8080/",
          "height": 198
        },
        "id": "oC_q14zRqspL",
        "outputId": "5b709087-edcc-43b1-c807-aba0a3d0a058"
      },
      "source": [
        "lines.head()"
      ],
      "execution_count": 9,
      "outputs": [
        {
          "output_type": "execute_result",
          "data": {
            "text/html": [
              "<div>\n",
              "<style scoped>\n",
              "    .dataframe tbody tr th:only-of-type {\n",
              "        vertical-align: middle;\n",
              "    }\n",
              "\n",
              "    .dataframe tbody tr th {\n",
              "        vertical-align: top;\n",
              "    }\n",
              "\n",
              "    .dataframe thead th {\n",
              "        text-align: right;\n",
              "    }\n",
              "</style>\n",
              "<table border=\"1\" class=\"dataframe\">\n",
              "  <thead>\n",
              "    <tr style=\"text-align: right;\">\n",
              "      <th></th>\n",
              "      <th>index</th>\n",
              "      <th>ben</th>\n",
              "      <th>eng</th>\n",
              "    </tr>\n",
              "  </thead>\n",
              "  <tbody>\n",
              "    <tr>\n",
              "      <th>0</th>\n",
              "      <td>Go.</td>\n",
              "      <td>যাও।</td>\n",
              "      <td>CC-BY 2.0 (France) Attribution: tatoeba.org #2...</td>\n",
              "    </tr>\n",
              "    <tr>\n",
              "      <th>1</th>\n",
              "      <td>Go.</td>\n",
              "      <td>যান।</td>\n",
              "      <td>CC-BY 2.0 (France) Attribution: tatoeba.org #2...</td>\n",
              "    </tr>\n",
              "    <tr>\n",
              "      <th>2</th>\n",
              "      <td>Go.</td>\n",
              "      <td>যা।</td>\n",
              "      <td>CC-BY 2.0 (France) Attribution: tatoeba.org #2...</td>\n",
              "    </tr>\n",
              "    <tr>\n",
              "      <th>3</th>\n",
              "      <td>Run!</td>\n",
              "      <td>পালাও!</td>\n",
              "      <td>CC-BY 2.0 (France) Attribution: tatoeba.org #9...</td>\n",
              "    </tr>\n",
              "    <tr>\n",
              "      <th>4</th>\n",
              "      <td>Run!</td>\n",
              "      <td>পালান!</td>\n",
              "      <td>CC-BY 2.0 (France) Attribution: tatoeba.org #9...</td>\n",
              "    </tr>\n",
              "  </tbody>\n",
              "</table>\n",
              "</div>"
            ],
            "text/plain": [
              "  index     ben                                                eng\n",
              "0   Go.    যাও।  CC-BY 2.0 (France) Attribution: tatoeba.org #2...\n",
              "1   Go.    যান।  CC-BY 2.0 (France) Attribution: tatoeba.org #2...\n",
              "2   Go.     যা।  CC-BY 2.0 (France) Attribution: tatoeba.org #2...\n",
              "3  Run!  পালাও!  CC-BY 2.0 (France) Attribution: tatoeba.org #9...\n",
              "4  Run!  পালান!  CC-BY 2.0 (France) Attribution: tatoeba.org #9..."
            ]
          },
          "metadata": {
            "tags": []
          },
          "execution_count": 9
        }
      ]
    },
    {
      "cell_type": "code",
      "metadata": {
        "id": "8S78KdAhqyz_"
      },
      "source": [
        "lines.columns = [\"eng\", \"ben\", \"info\"]\n",
        "lines.drop(['info'], axis=1, inplace=True)"
      ],
      "execution_count": 10,
      "outputs": []
    },
    {
      "cell_type": "code",
      "metadata": {
        "colab": {
          "base_uri": "https://localhost:8080/",
          "height": 198
        },
        "id": "snYYVuWxtRBf",
        "outputId": "71d2e21d-2ec5-4876-ac14-59bb3279a4eb"
      },
      "source": [
        "lines.head()"
      ],
      "execution_count": 11,
      "outputs": [
        {
          "output_type": "execute_result",
          "data": {
            "text/html": [
              "<div>\n",
              "<style scoped>\n",
              "    .dataframe tbody tr th:only-of-type {\n",
              "        vertical-align: middle;\n",
              "    }\n",
              "\n",
              "    .dataframe tbody tr th {\n",
              "        vertical-align: top;\n",
              "    }\n",
              "\n",
              "    .dataframe thead th {\n",
              "        text-align: right;\n",
              "    }\n",
              "</style>\n",
              "<table border=\"1\" class=\"dataframe\">\n",
              "  <thead>\n",
              "    <tr style=\"text-align: right;\">\n",
              "      <th></th>\n",
              "      <th>eng</th>\n",
              "      <th>ben</th>\n",
              "    </tr>\n",
              "  </thead>\n",
              "  <tbody>\n",
              "    <tr>\n",
              "      <th>0</th>\n",
              "      <td>Go.</td>\n",
              "      <td>যাও।</td>\n",
              "    </tr>\n",
              "    <tr>\n",
              "      <th>1</th>\n",
              "      <td>Go.</td>\n",
              "      <td>যান।</td>\n",
              "    </tr>\n",
              "    <tr>\n",
              "      <th>2</th>\n",
              "      <td>Go.</td>\n",
              "      <td>যা।</td>\n",
              "    </tr>\n",
              "    <tr>\n",
              "      <th>3</th>\n",
              "      <td>Run!</td>\n",
              "      <td>পালাও!</td>\n",
              "    </tr>\n",
              "    <tr>\n",
              "      <th>4</th>\n",
              "      <td>Run!</td>\n",
              "      <td>পালান!</td>\n",
              "    </tr>\n",
              "  </tbody>\n",
              "</table>\n",
              "</div>"
            ],
            "text/plain": [
              "    eng     ben\n",
              "0   Go.    যাও।\n",
              "1   Go.    যান।\n",
              "2   Go.     যা।\n",
              "3  Run!  পালাও!\n",
              "4  Run!  পালান!"
            ]
          },
          "metadata": {
            "tags": []
          },
          "execution_count": 11
        }
      ]
    },
    {
      "cell_type": "code",
      "metadata": {
        "id": "2CT1SUjXthIJ"
      },
      "source": [
        "# Remove Punctuations\n",
        "lines = lines[lines.notna()]\n",
        "transtable = str.maketrans(dict.fromkeys(\"\".join(PUNCTUATIONS), ''))\n",
        "numbers = str.maketrans(dict.fromkeys(\"0123456789০১২৩৪৫৬৭৮৯\", \"\"))\n",
        "lines['eng'] = (lines['eng'].str.lower()\n",
        "                        .str.translate(transtable)\n",
        "                        .str.translate(numbers)\n",
        "                        .str.strip())\n",
        "lines['ben'] = (lines['ben'].str.lower()\n",
        "                        .str.translate(transtable)\n",
        "                        .str.translate(numbers)\n",
        "                        .str.strip())"
      ],
      "execution_count": 12,
      "outputs": []
    },
    {
      "cell_type": "code",
      "metadata": {
        "id": "RiJ7ACixvpCL"
      },
      "source": [
        "# Add start and end tokens to target sequences\n",
        "lines.ben = lines.ben.apply(lambda x : 'START_ '+ x + ' _END')"
      ],
      "execution_count": 13,
      "outputs": []
    },
    {
      "cell_type": "code",
      "metadata": {
        "colab": {
          "base_uri": "https://localhost:8080/",
          "height": 348
        },
        "id": "dchQycMRvv6l",
        "outputId": "31dca12d-7a43-491e-9da5-a78604a734b0"
      },
      "source": [
        "lines.sample(10)"
      ],
      "execution_count": 14,
      "outputs": [
        {
          "output_type": "execute_result",
          "data": {
            "text/html": [
              "<div>\n",
              "<style scoped>\n",
              "    .dataframe tbody tr th:only-of-type {\n",
              "        vertical-align: middle;\n",
              "    }\n",
              "\n",
              "    .dataframe tbody tr th {\n",
              "        vertical-align: top;\n",
              "    }\n",
              "\n",
              "    .dataframe thead th {\n",
              "        text-align: right;\n",
              "    }\n",
              "</style>\n",
              "<table border=\"1\" class=\"dataframe\">\n",
              "  <thead>\n",
              "    <tr style=\"text-align: right;\">\n",
              "      <th></th>\n",
              "      <th>eng</th>\n",
              "      <th>ben</th>\n",
              "    </tr>\n",
              "  </thead>\n",
              "  <tbody>\n",
              "    <tr>\n",
              "      <th>1785</th>\n",
              "      <td>i am  years old</td>\n",
              "      <td>START_ আমার  বছর বয়স। _END</td>\n",
              "    </tr>\n",
              "    <tr>\n",
              "      <th>1253</th>\n",
              "      <td>heres your key</td>\n",
              "      <td>START_ এই নিন আপনার চাবি। _END</td>\n",
              "    </tr>\n",
              "    <tr>\n",
              "      <th>3780</th>\n",
              "      <td>would you like to come inside</td>\n",
              "      <td>START_ আপনারা কি ভেতরে আসবেন _END</td>\n",
              "    </tr>\n",
              "    <tr>\n",
              "      <th>3755</th>\n",
              "      <td>tom certainly is hypocritical</td>\n",
              "      <td>START_ টম সত্যিই কুটিল। _END</td>\n",
              "    </tr>\n",
              "    <tr>\n",
              "      <th>3263</th>\n",
              "      <td>i dont know what you mean</td>\n",
              "      <td>START_ আমি জানিনা আপনি কি বোঝাতে চাইছেন। _END</td>\n",
              "    </tr>\n",
              "    <tr>\n",
              "      <th>1269</th>\n",
              "      <td>how old is this</td>\n",
              "      <td>START_ এটার বয়স কত _END</td>\n",
              "    </tr>\n",
              "    <tr>\n",
              "      <th>1614</th>\n",
              "      <td>i heard a scream</td>\n",
              "      <td>START_ আমি একটা চিৎকার শুনলাম। _END</td>\n",
              "    </tr>\n",
              "    <tr>\n",
              "      <th>1856</th>\n",
              "      <td>they all screamed</td>\n",
              "      <td>START_ তারা সবাই চেঁচালো। _END</td>\n",
              "    </tr>\n",
              "    <tr>\n",
              "      <th>4486</th>\n",
              "      <td>tom works very hard but not as hard as mary</td>\n",
              "      <td>START_ টম খুব খাটে কিন্তু মেরির মতো নয়। _END</td>\n",
              "    </tr>\n",
              "    <tr>\n",
              "      <th>3428</th>\n",
              "      <td>i thought tom was in danger</td>\n",
              "      <td>START_ আমি ভেবেছিলাম টম বিপদে পরেছে। _END</td>\n",
              "    </tr>\n",
              "  </tbody>\n",
              "</table>\n",
              "</div>"
            ],
            "text/plain": [
              "                                              eng                                            ben\n",
              "1785                              i am  years old                    START_ আমার  বছর বয়স। _END\n",
              "1253                               heres your key                 START_ এই নিন আপনার চাবি। _END\n",
              "3780                would you like to come inside              START_ আপনারা কি ভেতরে আসবেন _END\n",
              "3755                tom certainly is hypocritical                   START_ টম সত্যিই কুটিল। _END\n",
              "3263                    i dont know what you mean  START_ আমি জানিনা আপনি কি বোঝাতে চাইছেন। _END\n",
              "1269                              how old is this                       START_ এটার বয়স কত _END\n",
              "1614                             i heard a scream            START_ আমি একটা চিৎকার শুনলাম। _END\n",
              "1856                            they all screamed                 START_ তারা সবাই চেঁচালো। _END\n",
              "4486  tom works very hard but not as hard as mary  START_ টম খুব খাটে কিন্তু মেরির মতো নয়। _END\n",
              "3428                  i thought tom was in danger      START_ আমি ভেবেছিলাম টম বিপদে পরেছে। _END"
            ]
          },
          "metadata": {
            "tags": []
          },
          "execution_count": 14
        }
      ]
    },
    {
      "cell_type": "code",
      "metadata": {
        "id": "4fEToZt9vxBd"
      },
      "source": [
        "# english and bengali vocab in the dataset \n",
        "eng_words = set([i for j in lines.eng for i in j.split()])\n",
        "ben_words = set([i for j in lines.ben for i in j.split()])"
      ],
      "execution_count": 15,
      "outputs": []
    },
    {
      "cell_type": "code",
      "metadata": {
        "colab": {
          "base_uri": "https://localhost:8080/"
        },
        "id": "E4jmMYXDweIC",
        "outputId": "edc4550a-713d-4776-b438-0540aac361fa"
      },
      "source": [
        "# max source and target sequence\n",
        "eng_max = max([len(i.split()) for i in lines.eng])\n",
        "ben_max = max([len(j.split()) for j in lines.ben])\n",
        "print(eng_max, ben_max)"
      ],
      "execution_count": 16,
      "outputs": [
        {
          "output_type": "stream",
          "text": [
            "19 20\n"
          ],
          "name": "stdout"
        }
      ]
    },
    {
      "cell_type": "code",
      "metadata": {
        "colab": {
          "base_uri": "https://localhost:8080/"
        },
        "id": "_FU90XS_xDDl",
        "outputId": "6546d8ed-6948-4d78-a49b-e2355cdef78e"
      },
      "source": [
        "input_words = sorted(list(eng_words))\n",
        "target_words = sorted(list(ben_words))\n",
        "num_encoder_tokens = len(eng_words)\n",
        "num_decoder_tokens = len(ben_words)\n",
        "num_encoder_tokens, num_decoder_tokens"
      ],
      "execution_count": 17,
      "outputs": [
        {
          "output_type": "execute_result",
          "data": {
            "text/plain": [
              "(1884, 3394)"
            ]
          },
          "metadata": {
            "tags": []
          },
          "execution_count": 17
        }
      ]
    },
    {
      "cell_type": "code",
      "metadata": {
        "colab": {
          "base_uri": "https://localhost:8080/"
        },
        "id": "Eg8QIgW-xjFZ",
        "outputId": "ae33ec90-40c5-46b2-bbe0-c3fc67af4aec"
      },
      "source": [
        "num_decoder_tokens += 1 # For zero padding\n",
        "num_decoder_tokens\n",
        "num_encoder_tokens += 1 # For zero padding\n",
        "num_encoder_tokens\n",
        "# https://stackoverflow.com/questions/54176051/invalidargumenterror-indicesi-0-x-is-not-in-0-x-in-keras"
      ],
      "execution_count": 18,
      "outputs": [
        {
          "output_type": "execute_result",
          "data": {
            "text/plain": [
              "1885"
            ]
          },
          "metadata": {
            "tags": []
          },
          "execution_count": 18
        }
      ]
    },
    {
      "cell_type": "code",
      "metadata": {
        "id": "lCNdjy6txlAM"
      },
      "source": [
        "# string to index and index to string \n",
        "input_token_index = dict([(word, i+1) for i, word in enumerate(input_words)])\n",
        "target_token_index = dict([(word, i+1) for i, word in enumerate(target_words)])\n",
        "reverse_input_char_index = dict((i, word) for word, i in input_token_index.items())\n",
        "reverse_target_char_index = dict((i, word) for word, i in target_token_index.items())"
      ],
      "execution_count": 19,
      "outputs": []
    },
    {
      "cell_type": "code",
      "metadata": {
        "colab": {
          "base_uri": "https://localhost:8080/",
          "height": 348
        },
        "id": "NuPB8y1JxriM",
        "outputId": "60527a04-def1-4e7d-a678-deeac6a7842e"
      },
      "source": [
        "lines = shuffle(lines)\n",
        "lines.head(10)"
      ],
      "execution_count": 20,
      "outputs": [
        {
          "output_type": "execute_result",
          "data": {
            "text/html": [
              "<div>\n",
              "<style scoped>\n",
              "    .dataframe tbody tr th:only-of-type {\n",
              "        vertical-align: middle;\n",
              "    }\n",
              "\n",
              "    .dataframe tbody tr th {\n",
              "        vertical-align: top;\n",
              "    }\n",
              "\n",
              "    .dataframe thead th {\n",
              "        text-align: right;\n",
              "    }\n",
              "</style>\n",
              "<table border=\"1\" class=\"dataframe\">\n",
              "  <thead>\n",
              "    <tr style=\"text-align: right;\">\n",
              "      <th></th>\n",
              "      <th>eng</th>\n",
              "      <th>ben</th>\n",
              "    </tr>\n",
              "  </thead>\n",
              "  <tbody>\n",
              "    <tr>\n",
              "      <th>3693</th>\n",
              "      <td>wheres the nearest hospital</td>\n",
              "      <td>START_ কাছাকাছির মধ্যে হাসপাতালটা কোথায় আছে _END</td>\n",
              "    </tr>\n",
              "    <tr>\n",
              "      <th>3835</th>\n",
              "      <td>please show me the green shirt</td>\n",
              "      <td>START_ আমাকে একটু সবুজ জামাটা দেখাবেন। _END</td>\n",
              "    </tr>\n",
              "    <tr>\n",
              "      <th>3559</th>\n",
              "      <td>we heard tom was in trouble</td>\n",
              "      <td>START_ আমরা শুনলাম টম ঝামেলায় পরেছিল। _END</td>\n",
              "    </tr>\n",
              "    <tr>\n",
              "      <th>3287</th>\n",
              "      <td>is there a hospital nearby</td>\n",
              "      <td>START_ কাছাকাছির মধ্যে কোন হাসপাতাল আছে _END</td>\n",
              "    </tr>\n",
              "    <tr>\n",
              "      <th>4482</th>\n",
              "      <td>tom is eating breakfast alone in the kitchen</td>\n",
              "      <td>START_ টম রান্নাঘরে একলা প্রাতরাশ করছে। _END</td>\n",
              "    </tr>\n",
              "    <tr>\n",
              "      <th>4144</th>\n",
              "      <td>do you want to eat noodles or rice</td>\n",
              "      <td>START_ আপনি কি নুডলস খেতে চান না ভাত খেতে চান ...</td>\n",
              "    </tr>\n",
              "    <tr>\n",
              "      <th>3866</th>\n",
              "      <td>we dont have that information</td>\n",
              "      <td>START_ আমাদের কাছে সেই তথ্য নেই। _END</td>\n",
              "    </tr>\n",
              "    <tr>\n",
              "      <th>1830</th>\n",
              "      <td>my father is here</td>\n",
              "      <td>START_ আমার বাবা এখানে আছেন। _END</td>\n",
              "    </tr>\n",
              "    <tr>\n",
              "      <th>34</th>\n",
              "      <td>really</td>\n",
              "      <td>START_ সত্যি _END</td>\n",
              "    </tr>\n",
              "    <tr>\n",
              "      <th>3140</th>\n",
              "      <td>i cant lift my right arm</td>\n",
              "      <td>START_ আমি আমার ডান হাতটা তুলতে পারছি না। _END</td>\n",
              "    </tr>\n",
              "  </tbody>\n",
              "</table>\n",
              "</div>"
            ],
            "text/plain": [
              "                                               eng                                                ben\n",
              "3693                   wheres the nearest hospital  START_ কাছাকাছির মধ্যে হাসপাতালটা কোথায় আছে _END\n",
              "3835                please show me the green shirt        START_ আমাকে একটু সবুজ জামাটা দেখাবেন। _END\n",
              "3559                   we heard tom was in trouble        START_ আমরা শুনলাম টম ঝামেলায় পরেছিল। _END\n",
              "3287                    is there a hospital nearby       START_ কাছাকাছির মধ্যে কোন হাসপাতাল আছে _END\n",
              "4482  tom is eating breakfast alone in the kitchen       START_ টম রান্নাঘরে একলা প্রাতরাশ করছে। _END\n",
              "4144            do you want to eat noodles or rice  START_ আপনি কি নুডলস খেতে চান না ভাত খেতে চান ...\n",
              "3866                 we dont have that information              START_ আমাদের কাছে সেই তথ্য নেই। _END\n",
              "1830                             my father is here                  START_ আমার বাবা এখানে আছেন। _END\n",
              "34                                          really                                  START_ সত্যি _END\n",
              "3140                      i cant lift my right arm     START_ আমি আমার ডান হাতটা তুলতে পারছি না। _END"
            ]
          },
          "metadata": {
            "tags": []
          },
          "execution_count": 20
        }
      ]
    },
    {
      "cell_type": "code",
      "metadata": {
        "colab": {
          "base_uri": "https://localhost:8080/"
        },
        "id": "BvmKcWyHx7m7",
        "outputId": "561df5de-d46b-4c4a-9890-88a4694a9dc6"
      },
      "source": [
        "# Train - Test Split\n",
        "X, y = lines.eng, lines.ben\n",
        "X_train, X_test, y_train, y_test = train_test_split(X, y, test_size = 0.1)\n",
        "X_train.shape, X_test.shape"
      ],
      "execution_count": 21,
      "outputs": [
        {
          "output_type": "execute_result",
          "data": {
            "text/plain": [
              "((4173,), (464,))"
            ]
          },
          "metadata": {
            "tags": []
          },
          "execution_count": 21
        }
      ]
    },
    {
      "cell_type": "code",
      "metadata": {
        "id": "Df21vswnyQ4I"
      },
      "source": [
        "def generate_batch(X = X_train, y = y_train, batch_size = 128):\n",
        "    ''' Generate a batch of data '''\n",
        "    global eng_max, ben_max, num_decoder_tokens\n",
        "    while True:\n",
        "        for j in range(0, len(X), batch_size):\n",
        "            encoder_input_data = np.zeros((batch_size, eng_max),dtype='float32')\n",
        "            decoder_input_data = np.zeros((batch_size, ben_max),dtype='float32')\n",
        "            decoder_target_data = np.zeros((batch_size, ben_max, num_decoder_tokens),dtype='float32')\n",
        "            for i, (input_text, target_text) in enumerate(zip(X[j:j+batch_size], y[j:j+batch_size])):\n",
        "                for t, word in enumerate(input_text.split()):\n",
        "                    encoder_input_data[i, t] = input_token_index[word] # encoder input seq\n",
        "                for t, word in enumerate(target_text.split()):\n",
        "                    if t<len(target_text.split())-1:\n",
        "                        decoder_input_data[i, t] = target_token_index[word] # decoder input seq\n",
        "                    if t>0:\n",
        "                        # decoder target sequence (one hot encoded)\n",
        "                        # does not include the START_ token\n",
        "                        # Offset by one timestep\n",
        "                        decoder_target_data[i, t - 1, target_token_index[word]] = 1.\n",
        "            yield([encoder_input_data, decoder_input_data], decoder_target_data)"
      ],
      "execution_count": 22,
      "outputs": []
    },
    {
      "cell_type": "markdown",
      "metadata": {
        "id": "awGxDFjWyjnI"
      },
      "source": [
        "### Encoder Decoder Model architecture from : \n",
        "https://github.com/hlamba28/Word-Level-Eng-Mar-NMT/blob/master/WordLevelEngMarNMT.ipynb\n",
        "\n",
        "Few enhancements would be :\n",
        "1. Using a multi layered LSTM\n",
        "2. Using a bi-directional LSTM\n",
        "3. Using a different metric than Accuracy"
      ]
    },
    {
      "cell_type": "code",
      "metadata": {
        "id": "lWe6Yi4gyek5"
      },
      "source": [
        "latent_dim = 60"
      ],
      "execution_count": 23,
      "outputs": []
    },
    {
      "cell_type": "code",
      "metadata": {
        "id": "tSl2emcfyiEZ"
      },
      "source": [
        "# Encoder Model is a LSTM --> Many to one LSTM and we use the Embedding layer from keras\n",
        "# model = Sequential()\n",
        "encoder_inputs = Input(shape=(None,))\n",
        "encoder_embeddings = Embedding(num_encoder_tokens+1, latent_dim, mask_zero=True)(encoder_inputs)\n",
        "encoder_lstm1 = LSTM(units=latent_dim, return_state=True)\n",
        "encoder_outputs, state_h, state_c = encoder_lstm1(encoder_embeddings)\n",
        "# discard the individual output and only keep the hidden state and the cell state\n",
        "encoder_states = [state_h, state_c]"
      ],
      "execution_count": 24,
      "outputs": []
    },
    {
      "cell_type": "code",
      "metadata": {
        "id": "O3d1Tq6x0f_x"
      },
      "source": [
        "# set up the decoder where we feed in the encoder state\n",
        "decoder_inputs = Input(shape=(None,))\n",
        "decoder_embedding_layer = Embedding(num_decoder_tokens, latent_dim, mask_zero=True)\n",
        "decoder_embeddings = decoder_embedding_layer(decoder_inputs)\n",
        "\n",
        "# we need the return sequences and return states. we wil feed in the return sequences output to the model during inference\n",
        "decoder_lstm = LSTM(units=latent_dim, return_sequences=True, return_state=True)\n",
        "decoder_outputs, _, _ = decoder_lstm(decoder_embeddings, initial_state=encoder_states)\n",
        "decoder_dense = Dense(num_decoder_tokens, activation=\"softmax\")\n",
        "decoder_outputs = decoder_dense(decoder_outputs)"
      ],
      "execution_count": 25,
      "outputs": []
    },
    {
      "cell_type": "code",
      "metadata": {
        "id": "5M6ZlEvK2--d"
      },
      "source": [
        "# The overall model will now turn `encoder_input_data` & `decoder_input_data` into `decoder_target_data`\n",
        "model = Model([encoder_inputs, decoder_inputs], decoder_outputs)"
      ],
      "execution_count": 26,
      "outputs": []
    },
    {
      "cell_type": "code",
      "metadata": {
        "id": "VVkrWo403IdS"
      },
      "source": [
        "model.compile(optimizer='rmsprop', loss='categorical_crossentropy', metrics=['acc'])"
      ],
      "execution_count": 31,
      "outputs": []
    },
    {
      "cell_type": "code",
      "metadata": {
        "colab": {
          "base_uri": "https://localhost:8080/",
          "height": 533
        },
        "id": "YaJNAT_L3KkC",
        "outputId": "70ca0488-25aa-4d29-f89f-e037548d35b5"
      },
      "source": [
        "import tensorflow as tf\n",
        "tf.keras.utils.plot_model(\n",
        "    model,\n",
        "    to_file=\"model.png\",\n",
        "    show_shapes=True,\n",
        "    show_dtype=True,\n",
        "    show_layer_names=True,\n",
        "    rankdir=\"TB\",\n",
        "    expand_nested=True,\n",
        "    dpi=96,\n",
        ")"
      ],
      "execution_count": 32,
      "outputs": [
        {
          "output_type": "execute_result",
          "data": {
            "image/png": "[encoded data removed]",
            "text/plain": [
              "<IPython.core.display.Image object>"
            ]
          },
          "metadata": {
            "tags": []
          },
          "execution_count": 32
        }
      ]
    },
    {
      "cell_type": "code",
      "metadata": {
        "id": "2SZA3ggs3New"
      },
      "source": [
        "train_samples = len(X_train)\n",
        "val_samples = len(X_test)\n",
        "batch_size = 100\n",
        "epochs = 40"
      ],
      "execution_count": 33,
      "outputs": []
    },
    {
      "cell_type": "code",
      "metadata": {
        "colab": {
          "base_uri": "https://localhost:8080/"
        },
        "id": "JqcPuNq14YD9",
        "outputId": "0fe6c61d-9ea3-4eac-f974-f2a0384e4515"
      },
      "source": [
        "model.fit(generate_batch(X_train, y_train, batch_size = batch_size),\n",
        "                    steps_per_epoch = train_samples//batch_size,\n",
        "                    epochs=epochs,\n",
        "                    verbose=True,\n",
        "                    validation_data = generate_batch(X_test, y_test, batch_size = batch_size),\n",
        "                    validation_steps = val_samples//batch_size)"
      ],
      "execution_count": 35,
      "outputs": [
        {
          "output_type": "stream",
          "text": [
            "Epoch 1/40\n",
            "41/41 [==============================] - 25s 100ms/step - loss: 2.0372 - acc: 0.1633 - val_loss: 1.6329 - val_acc: 0.1859\n",
            "Epoch 2/40\n",
            "41/41 [==============================] - 2s 42ms/step - loss: 1.5311 - acc: 0.1879 - val_loss: 1.6085 - val_acc: 0.1859\n",
            "Epoch 3/40\n",
            "41/41 [==============================] - 2s 41ms/step - loss: 1.5160 - acc: 0.1875 - val_loss: 1.5782 - val_acc: 0.1859\n",
            "Epoch 4/40\n",
            "41/41 [==============================] - 2s 42ms/step - loss: 1.4810 - acc: 0.1867 - val_loss: 1.5440 - val_acc: 0.1859\n",
            "Epoch 5/40\n",
            "41/41 [==============================] - 2s 43ms/step - loss: 1.4406 - acc: 0.1879 - val_loss: 1.5200 - val_acc: 0.1952\n",
            "Epoch 6/40\n",
            "41/41 [==============================] - 2s 42ms/step - loss: 1.4166 - acc: 0.2076 - val_loss: 1.4924 - val_acc: 0.2207\n",
            "Epoch 7/40\n",
            "41/41 [==============================] - 2s 42ms/step - loss: 1.3818 - acc: 0.2238 - val_loss: 1.4747 - val_acc: 0.2268\n",
            "Epoch 8/40\n",
            "41/41 [==============================] - 2s 44ms/step - loss: 1.3601 - acc: 0.2301 - val_loss: 1.4498 - val_acc: 0.2365\n",
            "Epoch 9/40\n",
            "41/41 [==============================] - 2s 45ms/step - loss: 1.3255 - acc: 0.2412 - val_loss: 1.4311 - val_acc: 0.2449\n",
            "Epoch 10/40\n",
            "41/41 [==============================] - 2s 46ms/step - loss: 1.2922 - acc: 0.2505 - val_loss: 1.4189 - val_acc: 0.2486\n",
            "Epoch 11/40\n",
            "41/41 [==============================] - 2s 46ms/step - loss: 1.2739 - acc: 0.2607 - val_loss: 1.4031 - val_acc: 0.2621\n",
            "Epoch 12/40\n",
            "41/41 [==============================] - 2s 44ms/step - loss: 1.2532 - acc: 0.2677 - val_loss: 1.3903 - val_acc: 0.2635\n",
            "Epoch 13/40\n",
            "41/41 [==============================] - 2s 45ms/step - loss: 1.2281 - acc: 0.2719 - val_loss: 1.3879 - val_acc: 0.2639\n",
            "Epoch 14/40\n",
            "41/41 [==============================] - 2s 45ms/step - loss: 1.2081 - acc: 0.2759 - val_loss: 1.3700 - val_acc: 0.2677\n",
            "Epoch 15/40\n",
            "41/41 [==============================] - 2s 44ms/step - loss: 1.1807 - acc: 0.2814 - val_loss: 1.3608 - val_acc: 0.2691\n",
            "Epoch 16/40\n",
            "41/41 [==============================] - 2s 45ms/step - loss: 1.1611 - acc: 0.2826 - val_loss: 1.3511 - val_acc: 0.2732\n",
            "Epoch 17/40\n",
            "41/41 [==============================] - 2s 44ms/step - loss: 1.1533 - acc: 0.2838 - val_loss: 1.3436 - val_acc: 0.2760\n",
            "Epoch 18/40\n",
            "41/41 [==============================] - 2s 45ms/step - loss: 1.1472 - acc: 0.2861 - val_loss: 1.3338 - val_acc: 0.2793\n",
            "Epoch 19/40\n",
            "41/41 [==============================] - 2s 44ms/step - loss: 1.1380 - acc: 0.2883 - val_loss: 1.3272 - val_acc: 0.2797\n",
            "Epoch 20/40\n",
            "41/41 [==============================] - 2s 45ms/step - loss: 1.1327 - acc: 0.2918 - val_loss: 1.3211 - val_acc: 0.2839\n",
            "Epoch 21/40\n",
            "41/41 [==============================] - 2s 45ms/step - loss: 1.1108 - acc: 0.2977 - val_loss: 1.3144 - val_acc: 0.2867\n",
            "Epoch 22/40\n",
            "41/41 [==============================] - 2s 44ms/step - loss: 1.0950 - acc: 0.3049 - val_loss: 1.3078 - val_acc: 0.2923\n",
            "Epoch 23/40\n",
            "41/41 [==============================] - 2s 44ms/step - loss: 1.0884 - acc: 0.3089 - val_loss: 1.3083 - val_acc: 0.2914\n",
            "Epoch 24/40\n",
            "41/41 [==============================] - 2s 42ms/step - loss: 1.0733 - acc: 0.3151 - val_loss: 1.2995 - val_acc: 0.3007\n",
            "Epoch 25/40\n",
            "41/41 [==============================] - 2s 43ms/step - loss: 1.0607 - acc: 0.3183 - val_loss: 1.2875 - val_acc: 0.3067\n",
            "Epoch 26/40\n",
            "41/41 [==============================] - 2s 43ms/step - loss: 1.0442 - acc: 0.3269 - val_loss: 1.2855 - val_acc: 0.3095\n",
            "Epoch 27/40\n",
            "41/41 [==============================] - 2s 43ms/step - loss: 1.0291 - acc: 0.3339 - val_loss: 1.2766 - val_acc: 0.3113\n",
            "Epoch 28/40\n",
            "41/41 [==============================] - 2s 42ms/step - loss: 1.0102 - acc: 0.3370 - val_loss: 1.2696 - val_acc: 0.3155\n",
            "Epoch 29/40\n",
            "41/41 [==============================] - 2s 44ms/step - loss: 1.0019 - acc: 0.3422 - val_loss: 1.2643 - val_acc: 0.3211\n",
            "Epoch 30/40\n",
            "41/41 [==============================] - 2s 43ms/step - loss: 0.9836 - acc: 0.3529 - val_loss: 1.2627 - val_acc: 0.3234\n",
            "Epoch 31/40\n",
            "41/41 [==============================] - 2s 42ms/step - loss: 0.9672 - acc: 0.3572 - val_loss: 1.2547 - val_acc: 0.3290\n",
            "Epoch 32/40\n",
            "41/41 [==============================] - 2s 43ms/step - loss: 0.9494 - acc: 0.3585 - val_loss: 1.2472 - val_acc: 0.3360\n",
            "Epoch 33/40\n",
            "41/41 [==============================] - 2s 44ms/step - loss: 0.9433 - acc: 0.3654 - val_loss: 1.2433 - val_acc: 0.3360\n",
            "Epoch 34/40\n",
            "41/41 [==============================] - 2s 44ms/step - loss: 0.9290 - acc: 0.3683 - val_loss: 1.2380 - val_acc: 0.3392\n",
            "Epoch 35/40\n",
            "41/41 [==============================] - 2s 43ms/step - loss: 0.9089 - acc: 0.3802 - val_loss: 1.2314 - val_acc: 0.3411\n",
            "Epoch 36/40\n",
            "41/41 [==============================] - 2s 43ms/step - loss: 0.9031 - acc: 0.3854 - val_loss: 1.2255 - val_acc: 0.3490\n",
            "Epoch 37/40\n",
            "41/41 [==============================] - 2s 42ms/step - loss: 0.8922 - acc: 0.3935 - val_loss: 1.2231 - val_acc: 0.3457\n",
            "Epoch 38/40\n",
            "41/41 [==============================] - 2s 43ms/step - loss: 0.8872 - acc: 0.3984 - val_loss: 1.2164 - val_acc: 0.3513\n",
            "Epoch 39/40\n",
            "41/41 [==============================] - 2s 43ms/step - loss: 0.8757 - acc: 0.4046 - val_loss: 1.2076 - val_acc: 0.3546\n",
            "Epoch 40/40\n",
            "41/41 [==============================] - 2s 43ms/step - loss: 0.8644 - acc: 0.4089 - val_loss: 1.2026 - val_acc: 0.3555\n"
          ],
          "name": "stdout"
        },
        {
          "output_type": "execute_result",
          "data": {
            "text/plain": [
              "<keras.callbacks.History at 0x7f815e8aff10>"
            ]
          },
          "metadata": {
            "tags": []
          },
          "execution_count": 35
        }
      ]
    },
    {
      "cell_type": "code",
      "metadata": {
        "id": "eJfbExFj4fSi"
      },
      "source": [
        "model.save_weights('nmt_weights.h5')"
      ],
      "execution_count": 36,
      "outputs": []
    },
    {
      "cell_type": "code",
      "metadata": {
        "id": "ov9OVBDDsh9s"
      },
      "source": [
        "model.load_weights('nmt_weights.h5')"
      ],
      "execution_count": 37,
      "outputs": []
    },
    {
      "cell_type": "code",
      "metadata": {
        "id": "Lr_89r-l9uMa"
      },
      "source": [
        "# Encode the input sequence to get the \"thought vectors\"\n",
        "encoder_model = Model(encoder_inputs, encoder_states)\n",
        "\n",
        "# Decoder Step \n",
        "decoder_state_input_h = Input(shape=(latent_dim,))\n",
        "decoder_state_input_c = Input(shape=(latent_dim,))\n",
        "decoder_states_inputs = [decoder_state_input_h, decoder_state_input_c]\n",
        "dec_emb2= decoder_embedding_layer(decoder_inputs) # Get the embeddings of the decoder sequence\n",
        "\n",
        "# set the output from prev layer to the inputs of the first layer for decoder sequence\n",
        "decoder_ops, decoder_H, decoder_C = decoder_lstm(dec_emb2, initial_state=decoder_states_inputs)\n",
        "decoder_states_2 = [decoder_H, decoder_C]\n",
        "decoder_ops = decoder_dense(decoder_ops) # A dense softmax layer to generate prob dist. over the target vocabulary\n",
        "\n",
        "# Final decoder model\n",
        "decoder_model = Model(\n",
        "    [decoder_inputs] + decoder_states_inputs,\n",
        "    [decoder_ops] + decoder_states_2)"
      ],
      "execution_count": 38,
      "outputs": []
    },
    {
      "cell_type": "code",
      "metadata": {
        "colab": {
          "base_uri": "https://localhost:8080/",
          "height": 422
        },
        "id": "7XwuQ9Kj-9jQ",
        "outputId": "7a9b95e6-72d6-4ae3-864a-35287a2c4a0c"
      },
      "source": [
        "import tensorflow as tf\n",
        "tf.keras.utils.plot_model(\n",
        "    decoder_model,\n",
        "    to_file=\"model.png\",\n",
        "    show_shapes=True,\n",
        "    show_dtype=True,\n",
        "    show_layer_names=True,\n",
        "    rankdir=\"TB\",\n",
        "    expand_nested=True,\n",
        "    dpi=96,\n",
        ")"
      ],
      "execution_count": 39,
      "outputs": [
        {
          "output_type": "execute_result",
          "data": {
            "image/png": "[encoded data removed]",
            "text/plain": [
              "<IPython.core.display.Image object>"
            ]
          },
          "metadata": {
            "tags": []
          },
          "execution_count": 39
        }
      ]
    },
    {
      "cell_type": "markdown",
      "metadata": {
        "id": "uHuJwq0ruIg-"
      },
      "source": [
        "## Inference Setup"
      ]
    },
    {
      "cell_type": "code",
      "metadata": {
        "id": "nmfROO_h_nE5"
      },
      "source": [
        "def decode_sequence(input_seq):\n",
        "    # Encode the input as state vectors.\n",
        "    states_value = encoder_model.predict(input_seq)\n",
        "    # Generate empty target sequence of length 1.\n",
        "    target_seq = np.zeros((1,1))\n",
        "    # Populate the first character of target sequence with the start character.\n",
        "    target_seq[0, 0] = target_token_index['START_']\n",
        "\n",
        "    # Sampling loop for a batch of sequences\n",
        "    # (to simplify, here we assume a batch of size 1).\n",
        "    stop_condition = False\n",
        "    decoded_sentence = ''\n",
        "    while not stop_condition:\n",
        "        output_tokens, h, c = decoder_model.predict([target_seq] + states_value)\n",
        "\n",
        "        # Sample a token\n",
        "        sampled_token_index = np.argmax(output_tokens[0, -1, :])\n",
        "        sampled_char = reverse_target_char_index[sampled_token_index]\n",
        "        decoded_sentence += ' '+sampled_char\n",
        "\n",
        "        # Exit condition: either hit max length\n",
        "        # or find stop character.\n",
        "        if (sampled_char == '_END' or\n",
        "           len(decoded_sentence) > 50):\n",
        "            stop_condition = True\n",
        "\n",
        "        # Update the target sequence (of length 1).\n",
        "        target_seq = np.zeros((1,1))\n",
        "        target_seq[0, 0] = sampled_token_index\n",
        "\n",
        "        # Update states\n",
        "        states_value = [h, c]\n",
        "\n",
        "    return decoded_sentence"
      ],
      "execution_count": 40,
      "outputs": []
    },
    {
      "cell_type": "code",
      "metadata": {
        "id": "3LdaITY9ACBi"
      },
      "source": [
        "train_gen = generate_batch(X_train, y_train, batch_size = 1)\n",
        "k=-1"
      ],
      "execution_count": 41,
      "outputs": []
    },
    {
      "cell_type": "code",
      "metadata": {
        "colab": {
          "base_uri": "https://localhost:8080/"
        },
        "id": "6UCNTVXJAEpb",
        "outputId": "773ae9b1-8c5e-456c-a663-b3645d7859b2"
      },
      "source": [
        "for i in range(20):\n",
        "    k+=1\n",
        "    (input_seq, actual_output), _ = next(train_gen)\n",
        "    decoded_sentence = decode_sequence(input_seq)\n",
        "    print('Input English sentence:', X_train[k:k+1].values[0])\n",
        "    print('Actual Bengali Translation:', y_train[k:k+1].values[0][6:-4])\n",
        "    print('Predicted Bengali Translation:', decoded_sentence[:-4])\n",
        "    print(\"-\"*80)"
      ],
      "execution_count": 45,
      "outputs": [
        {
          "output_type": "stream",
          "text": [
            "Input English sentence: may i have your phone number\n",
            "Actual Bengali Translation:  আমি কি আপনার ফোন নাম্বারটি পেতে পারি \n",
            "Predicted Bengali Translation:  আমি কি আমার সাথে কথা বলতে পারি \n",
            "--------------------------------------------------------------------------------\n",
            "Input English sentence: can you get a day off\n",
            "Actual Bengali Translation:  তুমি কে একদিনের ছুটি নিতে পারবে \n",
            "Predicted Bengali Translation:  আপনি কি কখনো আছে \n",
            "--------------------------------------------------------------------------------\n",
            "Input English sentence: anything else\n",
            "Actual Bengali Translation:  আর কিছু \n",
            "Predicted Bengali Translation:  আমরা কি আছে \n",
            "--------------------------------------------------------------------------------\n",
            "Input English sentence: they seem american\n",
            "Actual Bengali Translation:  তাদের দেখে আমেরিকান বলে মনে হচ্ছে। \n",
            "Predicted Bengali Translation:  সবাই দেখে আছে। \n",
            "--------------------------------------------------------------------------------\n",
            "Input English sentence: wheres the entrance to the museum\n",
            "Actual Bengali Translation:  জাদুঘরে ঢোকার দরজাটি কোথায় \n",
            "Predicted Bengali Translation:  জাদুঘরটা কোথায় কোথায় \n",
            "--------------------------------------------------------------------------------\n",
            "Input English sentence: stop screaming\n",
            "Actual Bengali Translation:  চেঁচানো বন্ধ করো। \n",
            "Predicted Bengali Translation:  চিৎকার বন্ধ করুন। \n",
            "--------------------------------------------------------------------------------\n",
            "Input English sentence: come here\n",
            "Actual Bengali Translation:  এখানে আসিস। \n",
            "Predicted Bengali Translation:  এখানে চিৎকার করুন। \n",
            "--------------------------------------------------------------------------------\n",
            "Input English sentence: ill be back in four or five days\n",
            "Actual Bengali Translation:  আমি চার বা পাঁচ দিনের মধ্যে ফিরে আসবো। \n",
            "Predicted Bengali Translation:  আমি একটা একটা হোটেলে মধ্যে ফিরে আসবো। \n",
            "--------------------------------------------------------------------------------\n",
            "Input English sentence: can you keep an eye on tom\n",
            "Actual Bengali Translation:  আপনি কি টমের উপর নজর রাখতে পারবেন \n",
            "Predicted Bengali Translation:  আপনি কি ইচ্ছে যেতে বলতে পারেন। \n",
            "--------------------------------------------------------------------------------\n",
            "Input English sentence: were both named tom\n",
            "Actual Bengali Translation:  আমাদের দুজনের নামই টম। \n",
            "Predicted Bengali Translation:  আমরা খুব খুব মেয়ে \n",
            "--------------------------------------------------------------------------------\n",
            "Input English sentence: life is beautiful\n",
            "Actual Bengali Translation:  জীবন সুন্দর। \n",
            "Predicted Bengali Translation:  সবাই কোথায় ছিলো। \n",
            "--------------------------------------------------------------------------------\n",
            "Input English sentence: isnt tom great\n",
            "Actual Bengali Translation:  টম দারুন না \n",
            "Predicted Bengali Translation:  টম চিৎকার করলো। \n",
            "--------------------------------------------------------------------------------\n",
            "Input English sentence: we play football every saturday\n",
            "Actual Bengali Translation:  আমরা প্রত্যেক শনিবার ফুটবল খেলি। \n",
            "Predicted Bengali Translation:  আমরা দুটো মেয়ে আছে। \n",
            "--------------------------------------------------------------------------------\n",
            "Input English sentence: i forgot your phone number\n",
            "Actual Bengali Translation:  আমি তোমার ফোন নাম্বারটা ভুলে গেছি। \n",
            "Predicted Bengali Translation:  আমি কি আপনার বন্ধু করতে পারি \n",
            "--------------------------------------------------------------------------------\n",
            "Input English sentence: i want you to stay with tom\n",
            "Actual Bengali Translation:  আমি চাই তুমি টমের সঙ্গে থাকো। \n",
            "Predicted Bengali Translation:  আমি আপনার সঙ্গে চাই না। \n",
            "--------------------------------------------------------------------------------\n",
            "Input English sentence: please tell me your phone number\n",
            "Actual Bengali Translation:  আমাকে অনুগ্রহ করে আপনার ফোন নাম্বারটি বলুন। \n",
            "Predicted Bengali Translation:  আপনার কি আপনার সাথে নাম \n",
            "--------------------------------------------------------------------------------\n",
            "Input English sentence: can i help you no thank you im just looking around\n",
            "Actual Bengali Translation:  আমি কি আপনাকে কোনো সাহায্য করতে পারি না ধন্যবাদ। আমি খালি একটু ঘুরে দেখছি। \n",
            "Predicted Bengali Translation:  আমি আমার সঙ্গে জন্য জন্য যেতে চাই। \n",
            "--------------------------------------------------------------------------------\n",
            "Input English sentence: i want you to work with tom\n",
            "Actual Bengali Translation:  আমি চাই তুমি টমের সঙ্গে কাজ করো। \n",
            "Predicted Bengali Translation:  আমি চাই আমি চাই আমি বুঝতে পারছি না। \n",
            "--------------------------------------------------------------------------------\n",
            "Input English sentence: can you recommend a hotel\n",
            "Actual Bengali Translation:  আপনি কোনো হোটেল সুপারিশ করতে পারবেন \n",
            "Predicted Bengali Translation:  আপনি কি কি কিভাবে যাব \n",
            "--------------------------------------------------------------------------------\n",
            "Input English sentence: wheres tom been\n",
            "Actual Bengali Translation:  টম কোথায় গেছিল \n",
            "Predicted Bengali Translation:  টম চিৎকার করছে। \n",
            "--------------------------------------------------------------------------------\n"
          ],
          "name": "stdout"
        }
      ]
    },
    {
      "cell_type": "code",
      "metadata": {
        "id": "MhkNqQ8-A66k"
      },
      "source": [
        ""
      ],
      "execution_count": null,
      "outputs": []
    }
  ]
}